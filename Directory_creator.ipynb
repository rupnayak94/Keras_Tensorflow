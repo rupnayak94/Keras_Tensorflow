{
 "cells": [
  {
   "cell_type": "code",
   "execution_count": 1,
   "metadata": {},
   "outputs": [],
   "source": [
    "import os, shutil"
   ]
  },
  {
   "cell_type": "markdown",
   "metadata": {},
   "source": [
    "### Paths"
   ]
  },
  {
   "cell_type": "code",
   "execution_count": 2,
   "metadata": {},
   "outputs": [],
   "source": [
    "org_path=\"D:/Docs/Education/Data Science ProDegree Imarticus/Python projects/Analytics Vidya and Kaggle/CatsDogs/\"\n",
    "org_train=\"D:/Docs/Education/Data Science ProDegree Imarticus/Python projects/Analytics Vidya and Kaggle/CatsDogs/orgdat/train_mixed/train\"\n",
    "org_test=\"D:/Docs/Education/Data Science ProDegree Imarticus/Python projects/Analytics Vidya and Kaggle/CatsDogs/orgdat/test_mixed\""
   ]
  },
  {
   "cell_type": "markdown",
   "metadata": {},
   "source": [
    "### Directory create"
   ]
  },
  {
   "cell_type": "markdown",
   "metadata": {},
   "source": [
    "#### we will be using OS.mkdir to create a directory in the paths"
   ]
  },
  {
   "cell_type": "code",
   "execution_count": 3,
   "metadata": {},
   "outputs": [],
   "source": [
    "train_dir=os.path.join(org_path, \"train\")\n",
    "os.mkdir(train_dir)\n",
    "valid_dir=os.path.join(org_path, \"valid\")\n",
    "os.mkdir(valid_dir)\n",
    "test_dir=os.path.join(org_path, \"test\")\n",
    "os.mkdir(test_dir)"
   ]
  },
  {
   "cell_type": "markdown",
   "metadata": {},
   "source": [
    "#### All the directory (except test) will have two subfolders based on their class namely \"cats\" and \"dogs\""
   ]
  },
  {
   "cell_type": "code",
   "execution_count": 4,
   "metadata": {},
   "outputs": [],
   "source": [
    "train_cat_dir=os.path.join(train_dir, \"cat\")\n",
    "os.mkdir(train_cat_dir)\n",
    "train_dogs_dir=os.path.join(train_dir, \"dog\")\n",
    "os.mkdir(train_dogs_dir)"
   ]
  },
  {
   "cell_type": "code",
   "execution_count": 5,
   "metadata": {},
   "outputs": [],
   "source": [
    "valid_cat_dir=os.path.join(valid_dir, \"cat\")\n",
    "os.mkdir(valid_cat_dir)\n",
    "valid_dogs_dir=os.path.join(valid_dir, \"dog\")\n",
    "os.mkdir(valid_dogs_dir)"
   ]
  },
  {
   "cell_type": "markdown",
   "metadata": {},
   "source": [
    "#### Cats and dogs are separated based on their type as written in their names \n",
    "eg \" cat.01.jpg\" the 01, 02, 03 are provided via a for loop which determines the index of the images"
   ]
  },
  {
   "cell_type": "code",
   "execution_count": 6,
   "metadata": {},
   "outputs": [],
   "source": [
    "picnames=[\"cat.{}.jpg\".format(i) for i in range(12000)]\n",
    "for pic in picnames:\n",
    "    src=os.path.join(org_train, pic)\n",
    "    dst=os.path.join(train_cat_dir, pic)\n",
    "    shutil.move(src, dst)"
   ]
  },
  {
   "cell_type": "code",
   "execution_count": 7,
   "metadata": {},
   "outputs": [],
   "source": [
    "picnames=[\"dog.{}.jpg\".format(i) for i in range(12000)]\n",
    "for pic in picnames:\n",
    "    src=os.path.join(org_train, pic)\n",
    "    dst=os.path.join(train_dogs_dir, pic)\n",
    "    shutil.move(src, dst)"
   ]
  },
  {
   "cell_type": "code",
   "execution_count": 8,
   "metadata": {},
   "outputs": [],
   "source": [
    "picnames=[\"cat.{}.jpg\".format(i) for i in range(12000, 12500)]\n",
    "for pic in picnames:\n",
    "    src=os.path.join(org_train, pic)\n",
    "    dst=os.path.join(valid_cat_dir, pic)\n",
    "    shutil.move(src, dst)"
   ]
  },
  {
   "cell_type": "code",
   "execution_count": 9,
   "metadata": {},
   "outputs": [],
   "source": [
    "picnames=[\"dog.{}.jpg\".format(i) for i in range(12000, 12500)]\n",
    "for pic in picnames:\n",
    "    src=os.path.join(org_train, pic)\n",
    "    dst=os.path.join(valid_dogs_dir, pic)\n",
    "    shutil.move(src, dst)"
   ]
  },
  {
   "cell_type": "code",
   "execution_count": 11,
   "metadata": {},
   "outputs": [],
   "source": [
    "picnames=[\"{}.jpg\".format(i) for i in range(1,12501)]\n",
    "for pic in picnames:\n",
    "    src=os.path.join(org_test, pic)\n",
    "    dst=os.path.join(test_dir, pic)\n",
    "    shutil.move(src, dst)"
   ]
  }
 ],
 "metadata": {
  "kernelspec": {
   "display_name": "tensorflowGpu",
   "language": "python",
   "name": "tensorflowgpu"
  },
  "language_info": {
   "codemirror_mode": {
    "name": "ipython",
    "version": 3
   },
   "file_extension": ".py",
   "mimetype": "text/x-python",
   "name": "python",
   "nbconvert_exporter": "python",
   "pygments_lexer": "ipython3",
   "version": "3.7.7"
  }
 },
 "nbformat": 4,
 "nbformat_minor": 4
}
